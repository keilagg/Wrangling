{
 "cells": [
  {
   "cell_type": "markdown",
   "id": "e811534b",
   "metadata": {},
   "source": []
  },
  {
   "cell_type": "markdown",
   "id": "a772f386",
   "metadata": {},
   "source": [
    "### Table of Contents\n",
    "\n",
    "1. [Overview](#over)\n",
    "2. [Metrics](#metrics)\n",
    "    - Territory\n",
    "    - Users\n",
    "    - Transport Infrastructure and Traffic\n",
    "    - Vehicle \n",
    "    - Public transportation\n",
    "3. [Indicators](#indicators)\n",
    "4. [Analysis](#compa)\n",
    "    - Origin destination visualizations\n",
    "    - Air Quality maps \n",
    "5. [Conclusions](#conclu)\n",
    "6. [References](#ref)\n",
    "7. [Glosary](#glo)"
   ]
  },
  {
   "cell_type": "markdown",
   "id": "6bc7fbe1",
   "metadata": {},
   "source": []
  },
  {
   "cell_type": "markdown",
   "id": "3847acc0",
   "metadata": {},
   "source": []
  },
  {
   "cell_type": "code",
   "execution_count": null,
   "id": "4aed67a9",
   "metadata": {},
   "outputs": [],
   "source": []
  }
 ],
 "metadata": {
  "language_info": {
   "name": "python"
  }
 },
 "nbformat": 4,
 "nbformat_minor": 5
}
