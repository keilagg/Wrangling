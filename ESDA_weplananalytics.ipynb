{
 "cells": [
  {
   "cell_type": "markdown",
   "id": "e811534b",
   "metadata": {
    "slideshow": {
     "slide_type": "slide"
    }
   },
   "source": [
    "# Datos de telefonia movil en Madrid Capital\n",
    "## Análisis (Espacial) exploratorio (ESDA)"
   ]
  },
  {
   "cell_type": "markdown",
   "id": "a772f386",
   "metadata": {},
   "source": [
    "### Table of Contents\n",
    "\n",
    "1. [Overview](#over)\n",
    "2. [Metrics](#metrics)\n",
    "    - Territory\n",
    "    - Users\n",
    "    - Transport Infrastructure and Traffic\n",
    "    - Vehicle \n",
    "    - Public transportation\n",
    "3. [Indicators](#indicators)\n",
    "4. [Analysis](#compa)\n",
    "    - Origin destination visualizations\n",
    "    - Air Quality maps \n",
    "5. [Conclusions](#conclu)\n",
    "6. [References](#ref)\n",
    "7. [Glosary](#glo)"
   ]
  },
  {
   "cell_type": "markdown",
   "id": "6bc7fbe1",
   "metadata": {},
   "source": []
  },
  {
   "cell_type": "markdown",
   "id": "3847acc0",
   "metadata": {},
   "source": []
  },
  {
   "cell_type": "code",
   "execution_count": null,
   "id": "4aed67a9",
   "metadata": {},
   "outputs": [],
   "source": []
  },
  {
   "cell_type": "code",
   "execution_count": null,
   "id": "bc2a6671",
   "metadata": {},
   "outputs": [],
   "source": [
    "#!jupyter nbconvert --to slides test_JJPP.ipynb --TemplateExporter.exclude_input=True"
   ]
  }
 ],
 "metadata": {
  "kernelspec": {
   "display_name": "venv",
   "language": "python",
   "name": "venv"
  },
  "language_info": {
   "name": "python",
   "version": "3.12.10"
  }
 },
 "nbformat": 4,
 "nbformat_minor": 5
}
