{
 "cells": [
  {
   "cell_type": "markdown",
   "metadata": {},
   "source": [
    "# Carpooling and google data exploration\n",
    "\n",
    "This Notebook evaluates the potentiallity of Google's takeout data with our carpooling algorithm.\n",
    "\n",
    "##### Notebook by: Keila González-Gómez"
   ]
  },
  {
   "cell_type": "code",
   "execution_count": 1,
   "metadata": {},
   "outputs": [
    {
     "name": "stdout",
     "output_type": "stream",
     "text": [
      "Requirement already satisfied: ipykernel in c:\\users\\keila\\appdata\\local\\packages\\pythonsoftwarefoundation.python.3.10_qbz5n2kfra8p0\\localcache\\local-packages\\python310\\site-packages (6.29.5)\n",
      "Requirement already satisfied: tornado>=6.1 in c:\\users\\keila\\appdata\\local\\packages\\pythonsoftwarefoundation.python.3.10_qbz5n2kfra8p0\\localcache\\local-packages\\python310\\site-packages (from ipykernel) (6.4)\n",
      "Requirement already satisfied: psutil in c:\\users\\keila\\appdata\\local\\packages\\pythonsoftwarefoundation.python.3.10_qbz5n2kfra8p0\\localcache\\local-packages\\python310\\site-packages (from ipykernel) (5.9.8)\n",
      "Requirement already satisfied: comm>=0.1.1 in c:\\users\\keila\\appdata\\local\\packages\\pythonsoftwarefoundation.python.3.10_qbz5n2kfra8p0\\localcache\\local-packages\\python310\\site-packages (from ipykernel) (0.2.2)\n",
      "Requirement already satisfied: pyzmq>=24 in c:\\users\\keila\\appdata\\local\\packages\\pythonsoftwarefoundation.python.3.10_qbz5n2kfra8p0\\localcache\\local-packages\\python310\\site-packages (from ipykernel) (25.1.2)\n",
      "Requirement already satisfied: ipython>=7.23.1 in c:\\users\\keila\\appdata\\local\\packages\\pythonsoftwarefoundation.python.3.10_qbz5n2kfra8p0\\localcache\\local-packages\\python310\\site-packages (from ipykernel) (8.32.0)\n",
      "Requirement already satisfied: jupyter-core!=5.0.*,>=4.12 in c:\\users\\keila\\appdata\\local\\packages\\pythonsoftwarefoundation.python.3.10_qbz5n2kfra8p0\\localcache\\local-packages\\python310\\site-packages (from ipykernel) (5.7.1)\n",
      "Requirement already satisfied: debugpy>=1.6.5 in c:\\users\\keila\\appdata\\local\\packages\\pythonsoftwarefoundation.python.3.10_qbz5n2kfra8p0\\localcache\\local-packages\\python310\\site-packages (from ipykernel) (1.8.0)\n",
      "Requirement already satisfied: jupyter-client>=6.1.12 in c:\\users\\keila\\appdata\\local\\packages\\pythonsoftwarefoundation.python.3.10_qbz5n2kfra8p0\\localcache\\local-packages\\python310\\site-packages (from ipykernel) (8.6.3)\n",
      "Requirement already satisfied: matplotlib-inline>=0.1 in c:\\users\\keila\\appdata\\local\\packages\\pythonsoftwarefoundation.python.3.10_qbz5n2kfra8p0\\localcache\\local-packages\\python310\\site-packages (from ipykernel) (0.1.6)\n",
      "Requirement already satisfied: traitlets>=5.4.0 in c:\\users\\keila\\appdata\\local\\packages\\pythonsoftwarefoundation.python.3.10_qbz5n2kfra8p0\\localcache\\local-packages\\python310\\site-packages (from ipykernel) (5.14.1)\n",
      "Requirement already satisfied: nest-asyncio in c:\\users\\keila\\appdata\\local\\packages\\pythonsoftwarefoundation.python.3.10_qbz5n2kfra8p0\\localcache\\local-packages\\python310\\site-packages (from ipykernel) (1.6.0)\n",
      "Requirement already satisfied: packaging in c:\\users\\keila\\appdata\\local\\packages\\pythonsoftwarefoundation.python.3.10_qbz5n2kfra8p0\\localcache\\local-packages\\python310\\site-packages (from ipykernel) (23.2)\n",
      "Requirement already satisfied: jedi>=0.16 in c:\\users\\keila\\appdata\\local\\packages\\pythonsoftwarefoundation.python.3.10_qbz5n2kfra8p0\\localcache\\local-packages\\python310\\site-packages (from ipython>=7.23.1->ipykernel) (0.19.1)\n",
      "Requirement already satisfied: stack_data in c:\\users\\keila\\appdata\\local\\packages\\pythonsoftwarefoundation.python.3.10_qbz5n2kfra8p0\\localcache\\local-packages\\python310\\site-packages (from ipython>=7.23.1->ipykernel) (0.6.3)\n",
      "Requirement already satisfied: prompt_toolkit<3.1.0,>=3.0.41 in c:\\users\\keila\\appdata\\local\\packages\\pythonsoftwarefoundation.python.3.10_qbz5n2kfra8p0\\localcache\\local-packages\\python310\\site-packages (from ipython>=7.23.1->ipykernel) (3.0.43)\n",
      "Requirement already satisfied: colorama in c:\\users\\keila\\appdata\\local\\packages\\pythonsoftwarefoundation.python.3.10_qbz5n2kfra8p0\\localcache\\local-packages\\python310\\site-packages (from ipython>=7.23.1->ipykernel) (0.4.6)\n",
      "Requirement already satisfied: typing_extensions>=4.6 in c:\\users\\keila\\appdata\\local\\packages\\pythonsoftwarefoundation.python.3.10_qbz5n2kfra8p0\\localcache\\local-packages\\python310\\site-packages (from ipython>=7.23.1->ipykernel) (4.12.2)\n",
      "Requirement already satisfied: exceptiongroup in c:\\users\\keila\\appdata\\local\\packages\\pythonsoftwarefoundation.python.3.10_qbz5n2kfra8p0\\localcache\\local-packages\\python310\\site-packages (from ipython>=7.23.1->ipykernel) (1.2.0)\n",
      "Requirement already satisfied: decorator in c:\\users\\keila\\appdata\\local\\packages\\pythonsoftwarefoundation.python.3.10_qbz5n2kfra8p0\\localcache\\local-packages\\python310\\site-packages (from ipython>=7.23.1->ipykernel) (5.1.1)\n",
      "Requirement already satisfied: pygments>=2.4.0 in c:\\users\\keila\\appdata\\local\\packages\\pythonsoftwarefoundation.python.3.10_qbz5n2kfra8p0\\localcache\\local-packages\\python310\\site-packages (from ipython>=7.23.1->ipykernel) (2.17.2)\n",
      "Requirement already satisfied: python-dateutil>=2.8.2 in c:\\users\\keila\\appdata\\local\\packages\\pythonsoftwarefoundation.python.3.10_qbz5n2kfra8p0\\localcache\\local-packages\\python310\\site-packages (from jupyter-client>=6.1.12->ipykernel) (2.8.2)\n",
      "Requirement already satisfied: platformdirs>=2.5 in c:\\users\\keila\\appdata\\local\\packages\\pythonsoftwarefoundation.python.3.10_qbz5n2kfra8p0\\localcache\\local-packages\\python310\\site-packages (from jupyter-core!=5.0.*,>=4.12->ipykernel) (4.1.0)\n",
      "Requirement already satisfied: pywin32>=300 in c:\\users\\keila\\appdata\\local\\packages\\pythonsoftwarefoundation.python.3.10_qbz5n2kfra8p0\\localcache\\local-packages\\python310\\site-packages (from jupyter-core!=5.0.*,>=4.12->ipykernel) (304)\n",
      "Requirement already satisfied: parso<0.9.0,>=0.8.3 in c:\\users\\keila\\appdata\\local\\packages\\pythonsoftwarefoundation.python.3.10_qbz5n2kfra8p0\\localcache\\local-packages\\python310\\site-packages (from jedi>=0.16->ipython>=7.23.1->ipykernel) (0.8.3)\n",
      "Requirement already satisfied: wcwidth in c:\\users\\keila\\appdata\\local\\packages\\pythonsoftwarefoundation.python.3.10_qbz5n2kfra8p0\\localcache\\local-packages\\python310\\site-packages (from prompt_toolkit<3.1.0,>=3.0.41->ipython>=7.23.1->ipykernel) (0.2.13)\n",
      "Requirement already satisfied: six>=1.5 in c:\\users\\keila\\appdata\\local\\packages\\pythonsoftwarefoundation.python.3.10_qbz5n2kfra8p0\\localcache\\local-packages\\python310\\site-packages (from python-dateutil>=2.8.2->jupyter-client>=6.1.12->ipykernel) (1.16.0)\n",
      "Requirement already satisfied: pure-eval in c:\\users\\keila\\appdata\\local\\packages\\pythonsoftwarefoundation.python.3.10_qbz5n2kfra8p0\\localcache\\local-packages\\python310\\site-packages (from stack_data->ipython>=7.23.1->ipykernel) (0.2.2)\n",
      "Requirement already satisfied: asttokens>=2.1.0 in c:\\users\\keila\\appdata\\local\\packages\\pythonsoftwarefoundation.python.3.10_qbz5n2kfra8p0\\localcache\\local-packages\\python310\\site-packages (from stack_data->ipython>=7.23.1->ipykernel) (3.0.0)\n",
      "Requirement already satisfied: executing>=1.2.0 in c:\\users\\keila\\appdata\\local\\packages\\pythonsoftwarefoundation.python.3.10_qbz5n2kfra8p0\\localcache\\local-packages\\python310\\site-packages (from stack_data->ipython>=7.23.1->ipykernel) (2.0.1)\n",
      "Note: you may need to restart the kernel to use updated packages.\n"
     ]
    },
    {
     "name": "stderr",
     "output_type": "stream",
     "text": [
      "\n",
      "[notice] A new release of pip is available: 23.0.1 -> 25.2\n",
      "[notice] To update, run: C:\\Users\\keila\\AppData\\Local\\Microsoft\\WindowsApps\\PythonSoftwareFoundation.Python.3.10_qbz5n2kfra8p0\\python.exe -m pip install --upgrade pip\n"
     ]
    }
   ],
   "source": [
    "pip install --user ipykernel"
   ]
  },
  {
   "cell_type": "markdown",
   "metadata": {},
   "source": [
    "## Table of Contents:\n",
    "\n",
    "1. [Introduction](#introduction)\n",
    "\n",
    "2. [Required Libraries](#required-libraries)\n",
    "\n",
    "3. [Read Data](#3-read-data\n",
    "\n",
    "4. [Data Preparation](#preparation)\n",
    "\n",
    "5. [Spatial data Preparation](#spatial-preparation)\n",
    "pip install --user ipykernel\n",
    "6. [Final Considerations](#considerations)"
   ]
  },
  {
   "cell_type": "code",
   "execution_count": null,
   "metadata": {},
   "outputs": [
    {
     "ename": "SyntaxError",
     "evalue": "invalid syntax (2829323973.py, line 1)",
     "output_type": "error",
     "traceback": [
      "\u001b[1;36m  Cell \u001b[1;32mIn[2], line 1\u001b[1;36m\u001b[0m\n\u001b[1;33m    python -m ipykernel install --user --name=venv\u001b[0m\n\u001b[1;37m              ^\u001b[0m\n\u001b[1;31mSyntaxError\u001b[0m\u001b[1;31m:\u001b[0m invalid syntax\n"
     ]
    }
   ],
   "source": []
  },
  {
   "cell_type": "code",
   "execution_count": null,
   "metadata": {},
   "outputs": [],
   "source": [
    "# Group by tracker to get the top trakers by trips' duration (in minutes)\n",
    "tracker_trip_duration = df.groupby('tracker_oid').agg({'duration':'sum','distance_by_geom':'sum', 'distance_by_mm_geom':'sum'}).reset_index()\n",
    "# Transform in hours the trips' duration\n",
    "tracker_trip_duration['hours'] = tracker_trip_duration['duration']/60\n",
    "\n",
    "\n",
    "# Group by model from vin number\n",
    "tracker_model = trackers_info.groupby('model_desc').agg({'tracker_oid':'count','duration':'sum','distance_by_geom':'sum'}).reset_index()\n",
    "tracker_model"
   ]
  },
  {
   "cell_type": "code",
   "execution_count": null,
   "metadata": {},
   "outputs": [],
   "source": [
    "#Pairplots: Visualize relationships between key numerical variables.\n",
    "sns.pairplot(trips_filtered[['distance_by_mm_geom', 'avg_speed_by_mm_geom', 'trip_duration_minutes']])"
   ]
  },
  {
   "cell_type": "code",
   "execution_count": null,
   "metadata": {},
   "outputs": [],
   "source": [
    "plt.figure(figsize=(6, 4))\n",
    "boxplot = plt.boxplot(trips_filtered['trip_duration_minutes'], patch_artist=True)\n",
    "\n",
    "# Set fill color\n",
    "for box in boxplot['boxes']:\n",
    "    box.set(facecolor='#FD9E02')  # Fill color for the box\n",
    "\n",
    "plt.title(\"Distribution of Trips' Duration\")\n",
    "plt.ylabel(\"Trip Duration (minutes)\")\n",
    "plt.show()"
   ]
  },
  {
   "cell_type": "code",
   "execution_count": null,
   "metadata": {},
   "outputs": [],
   "source": [
    "# Heatmap to see densities\n",
    "map_h = folium.Map(\n",
    "    location=[df_urban_chile_GranSantiago.geometry.centroid.y, df_urban_chile_GranSantiago.geometry.centroid.x],\n",
    "    tiles=\"CartoDB positron\",\n",
    "    zoom_start= 12,\n",
    "    min_zoom = 8,\n",
    "    max_zoom = 18)\n",
    "heat_data = [[point.xy[1][0], point.xy[0][0]] for point in gdf_trips_top.geometry]\n",
    "\n",
    "\n",
    "HeatMap(heat_data,\n",
    "        radius=12, \n",
    "        blur=20, \n",
    "        min_opacity=.2,\n",
    "        ).add_to(map_h)\n",
    "folium.GeoJson(df_urban_chile_GranSantiago).add_to(map_h)\n",
    "map_h.save('heatmap_santiago.png')\n",
    "map_h"
   ]
  },
  {
   "cell_type": "code",
   "execution_count": null,
   "metadata": {},
   "outputs": [],
   "source": [
    "import pandas as pd\n",
    "import geopandas as gpd\n",
    "from shapely import wkt\n",
    "import matplotlib"
   ]
  },
  {
   "cell_type": "code",
   "execution_count": null,
   "metadata": {},
   "outputs": [],
   "source": [
    "x = pd.read_csv(r'C:\\Users\\keila\\Downloads\\data1.csv')"
   ]
  },
  {
   "cell_type": "code",
   "execution_count": null,
   "metadata": {},
   "outputs": [],
   "source": [
    "# columns with more than 80% null values\n",
    "df_telemetrics.columns[df_telemetrics.isnull().mean() > 0.80]"
   ]
  },
  {
   "cell_type": "code",
   "execution_count": null,
   "metadata": {},
   "outputs": [],
   "source": [
    "# keep trips inside AOI 1\n",
    "gdf_clip_sevilla_trips = gpd.clip(gdf_sevilla_trips, gdf_sevilla_polygon)"
   ]
  },
  {
   "cell_type": "code",
   "execution_count": null,
   "metadata": {},
   "outputs": [],
   "source": [
    "# Define the city name \n",
    "city_name = \"Andalucia\"  # Writing Sevilla brings only the capital and we want the province\n",
    "\n",
    "# Retrieve graph for the city\n",
    "# G = ox.graph_from_place(city_name, network_type=\"all\")\n",
    "G = ox.graph_from_polygon(gdf_sevilla_polygon.geometry[0], network_type=\"drive\")\n",
    "\n",
    "# Convert the network graph 2 gdf nodes and edges\n",
    "nodes_gdf, edges_gdf = ox.graph_to_gdfs(G)"
   ]
  },
  {
   "cell_type": "markdown",
   "metadata": {},
   "source": [
    "1. Define AOI  \n",
    "    a. The bigger the AOI the slower the calculations  \n",
    "    b. The bigger more rural areas with low traffic impact will be inserted  \n",
    "2. Select trips within that AOI  \n",
    "    a. Several trips will cover the same streets and roads  \n",
    "    b. Mapmatching and not mapmatched trips would slow analysis  \n",
    "3. Get the total network from relevant sources  \n",
    "    a. If the AOI is big this will impact performance  \n",
    " 4. Compare trips to road network  \n",
    "    a. Buffer approach or intersection with definite tolerance  \n",
    "    b.The more lanes the more complicated becomes to define coverage;   "
   ]
  },
  {
   "cell_type": "code",
   "execution_count": null,
   "metadata": {},
   "outputs": [],
   "source": []
  },
  {
   "cell_type": "code",
   "execution_count": null,
   "metadata": {},
   "outputs": [],
   "source": [
    "#!jupyter nbconvert --to slides test_JJPP.ipynb --TemplateExporter.exclude_input=True"
   ]
  },
  {
   "cell_type": "code",
   "execution_count": null,
   "metadata": {},
   "outputs": [],
   "source": [
    "intersecting_trips = gpd.overlay(buffered_roads_7m, \n",
    "                                 gdf_chile.to_crs('EPSG:32719'), \n",
    "                                 how='intersection', \n",
    "                                 keep_geom_type=False)"
   ]
  },
  {
   "cell_type": "code",
   "execution_count": null,
   "metadata": {},
   "outputs": [],
   "source": [
    "osm_f = OSM(get_data('finland'))\n",
    "nodes_f, edges_f = osm_f.get_network(nodes=True, network_type ='driving')"
   ]
  },
  {
   "cell_type": "code",
   "execution_count": null,
   "metadata": {},
   "outputs": [],
   "source": [
    "fig, ax = plt.subplots()    \n",
    "# Style\n",
    "hfont = {'fontname':'Helvetica'}\n",
    "months = [\n",
    "    \"July\",\n",
    "    \"October\",\n",
    "    \"September\",\n",
    "    \"August\",\n",
    "    \"May\",\n",
    "    \"December\",\n",
    "    \"November\",\n",
    "    \"June\",\n",
    "    \"April\",\n",
    "    \"March\",\n",
    "    \"January\",\n",
    "    \"February\"\n",
    "]\n",
    "\n",
    "# Plot\n",
    "ax.bar(months, most_common_month.values,\n",
    "        edgecolor='black')\n",
    "    \n",
    "# titles\n",
    "ax.set_ylabel('Number of trips',  **hfont)\n",
    "#ax.set_title('Trip Distribution in 2023', **hfont, y=1.08)\n",
    "\n",
    "# Move scientific notation \n",
    "t = ax.yaxis.get_offset_text()\n",
    "t.set_fontsize(10)\n",
    "t.set_x(0)\n",
    "\n",
    "# Improve grid settings\n",
    "ax.spines['top'].set_visible(False)\n",
    "ax.spines['right'].set_visible(False)\n",
    "ax.spines['left'].set_visible(False)\n",
    "ax.spines['bottom'].set_color('#525252')\n",
    "ax.tick_params(axis='x', rotation=45)\n",
    "\n",
    "# Set grid\n",
    "ax.set_axisbelow(True)\n",
    "ax.yaxis.grid(True)\n",
    "ax.xaxis.grid(False)\n",
    "\n",
    "# Better visualizatio"
   ]
  },
  {
   "cell_type": "markdown",
   "metadata": {},
   "source": [
    "**Key insights from the data analysis of the sample telemetrics (telemetrics_202402071517.csv)**:\n",
    "\n",
    "*Spatial Distribution*:\n",
    "\n",
    "- The mean distance between points is 277 meters, exhibiting a standard deviation of 315 meters. This indicates significant variability in the separation of points, with the maximum observed distance reaching 5213 meters.\n",
    "\n",
    "*Temporal Distribution*:\n",
    "\n",
    "- The mean duration between points is 549 seconds (equivalent to 9.15 minutes), accompanied by a high standard deviation of 6637 seconds. The data distribution appears highly skewed to the right, signifying that the majority of values are concentrated on the longer duration side. To provide a more reliable measure of central tendency, the median duration is 10 seconds."
   ]
  },
  {
   "cell_type": "code",
   "execution_count": null,
   "metadata": {},
   "outputs": [],
   "source": [
    "#!jupyter nbconvert --to slides test_JJPP.ipynb --TemplateExporter.exclude_input=True"
   ]
  },
  {
   "cell_type": "code",
   "execution_count": null,
   "metadata": {},
   "outputs": [],
   "source": [
    "# Drop columns with 80% or more missing values\n",
    "def drop_columns_with_high_missing_data(df:pd.DataFrame, threshold:float=0.8)-> pd.DataFrame:\n",
    "    # Calculate the percentage of missing values for each column\n",
    "    missing_percentage = df.isnull().mean()\n",
    "\n",
    "    # Identify columns with missing values exceeding the threshold\n",
    "    columns_to_drop = missing_percentage[missing_percentage > threshold].index\n",
    "\n",
    "    # Drop the identified columns from the DataFrame\n",
    "    df_dropped = df.drop(columns=columns_to_drop)\n",
    "\n",
    "    return df_dropped"
   ]
  },
  {
   "cell_type": "code",
   "execution_count": null,
   "metadata": {},
   "outputs": [],
   "source": [
    "df_clean = drop_columns_with_high_missing_data(df, 0.8)\n",
    "df_clean.dtypes"
   ]
  },
  {
   "cell_type": "code",
   "execution_count": null,
   "metadata": {},
   "outputs": [],
   "source": [
    "x.info()"
   ]
  },
  {
   "cell_type": "code",
   "execution_count": null,
   "metadata": {},
   "outputs": [],
   "source": [
    "x.cell_network_type.value_counts()"
   ]
  },
  {
   "cell_type": "code",
   "execution_count": null,
   "metadata": {},
   "outputs": [],
   "source": [
    "x.cell_frequency_band.value_counts()"
   ]
  },
  {
   "cell_type": "code",
   "execution_count": null,
   "metadata": {},
   "outputs": [],
   "source": [
    "x.timing_advance.hist()"
   ]
  },
  {
   "cell_type": "code",
   "execution_count": null,
   "metadata": {},
   "outputs": [],
   "source": [
    "x.timing_advance.describe()"
   ]
  },
  {
   "cell_type": "code",
   "execution_count": null,
   "metadata": {},
   "outputs": [],
   "source": [
    "df_area = gpd.read_file(r'barr2024\\barr2024.shp')"
   ]
  },
  {
   "cell_type": "code",
   "execution_count": null,
   "metadata": {},
   "outputs": [],
   "source": [
    "df_area.plot(); "
   ]
  },
  {
   "cell_type": "code",
   "execution_count": null,
   "metadata": {},
   "outputs": [],
   "source": [
    "x.head(2)"
   ]
  },
  {
   "cell_type": "code",
   "execution_count": null,
   "metadata": {},
   "outputs": [],
   "source": [
    "'214-3-132-20'.split('-')"
   ]
  },
  {
   "cell_type": "code",
   "execution_count": null,
   "metadata": {},
   "outputs": [],
   "source": [
    "x[['pais', 'operador', 'torre', 'celda']] = x.cell_id.str.split('-', expand=True)"
   ]
  },
  {
   "cell_type": "code",
   "execution_count": null,
   "metadata": {},
   "outputs": [],
   "source": [
    "x.head()"
   ]
  },
  {
   "cell_type": "code",
   "execution_count": null,
   "metadata": {},
   "outputs": [],
   "source": [
    "x.pais.value_counts()"
   ]
  },
  {
   "cell_type": "code",
   "execution_count": null,
   "metadata": {},
   "outputs": [],
   "source": [
    "x.operador.value_counts()"
   ]
  },
  {
   "cell_type": "code",
   "execution_count": null,
   "metadata": {},
   "outputs": [],
   "source": [
    "x.torre.nunique()"
   ]
  },
  {
   "cell_type": "code",
   "execution_count": null,
   "metadata": {},
   "outputs": [],
   "source": [
    "x.enodeb.nunique()"
   ]
  },
  {
   "cell_type": "code",
   "execution_count": null,
   "metadata": {},
   "outputs": [],
   "source": [
    "x.ci.nunique()"
   ]
  },
  {
   "cell_type": "code",
   "execution_count": null,
   "metadata": {},
   "outputs": [],
   "source": [
    "x.signal_strength.describe()"
   ]
  },
  {
   "cell_type": "code",
   "execution_count": null,
   "metadata": {},
   "outputs": [],
   "source": [
    "x.connection_type.value_counts()"
   ]
  },
  {
   "cell_type": "code",
   "execution_count": null,
   "metadata": {},
   "outputs": [],
   "source": [
    "df_sample = x.sample(12500)"
   ]
  },
  {
   "cell_type": "code",
   "execution_count": null,
   "metadata": {},
   "outputs": [],
   "source": [
    "gdf = gpd.GeoDataFrame(df_sample, crs='EPSG:4326', geometry = gpd.points_from_xy(df_sample.longitude, df_sample.latitude) )"
   ]
  },
  {
   "cell_type": "code",
   "execution_count": null,
   "metadata": {},
   "outputs": [],
   "source": [
    "m1 = df_area.explore()\n",
    "gdf.explore(m = m1, color = 'red')"
   ]
  },
  {
   "cell_type": "code",
   "execution_count": null,
   "metadata": {},
   "outputs": [],
   "source": []
  },
  {
   "cell_type": "code",
   "execution_count": null,
   "metadata": {},
   "outputs": [],
   "source": [
    "x.connection_type.describe()"
   ]
  },
  {
   "cell_type": "code",
   "execution_count": null,
   "metadata": {},
   "outputs": [],
   "source": [
    "x.connection_type.unique()"
   ]
  },
  {
   "cell_type": "code",
   "execution_count": null,
   "metadata": {},
   "outputs": [],
   "source": [
    "x.shape"
   ]
  },
  {
   "cell_type": "code",
   "execution_count": null,
   "metadata": {},
   "outputs": [],
   "source": [
    "y = pd.read_csv(r'C:\\Users\\keila\\Downloads\\data2.csv')"
   ]
  },
  {
   "cell_type": "code",
   "execution_count": null,
   "metadata": {},
   "outputs": [],
   "source": [
    "y.head()"
   ]
  },
  {
   "cell_type": "code",
   "execution_count": null,
   "metadata": {},
   "outputs": [],
   "source": [
    "y.sector.nunique()"
   ]
  },
  {
   "cell_type": "code",
   "execution_count": null,
   "metadata": {},
   "outputs": [],
   "source": [
    "df_complete = pd.merge(x,y, how='left', left_on = ['ci'], right_on=['ci'])"
   ]
  },
  {
   "cell_type": "code",
   "execution_count": null,
   "metadata": {},
   "outputs": [],
   "source": [
    "df_complete.sector.nunique()"
   ]
  },
  {
   "cell_type": "code",
   "execution_count": null,
   "metadata": {},
   "outputs": [],
   "source": [
    "df_complete"
   ]
  },
  {
   "cell_type": "code",
   "execution_count": null,
   "metadata": {},
   "outputs": [],
   "source": [
    "df_complete.signal_strength.describe()"
   ]
  },
  {
   "cell_type": "code",
   "execution_count": null,
   "metadata": {},
   "outputs": [],
   "source": [
    "df_complete.celda.nunique()"
   ]
  },
  {
   "cell_type": "code",
   "execution_count": null,
   "metadata": {},
   "outputs": [],
   "source": [
    "df_complete.torre.value_counts()"
   ]
  },
  {
   "cell_type": "code",
   "execution_count": null,
   "metadata": {},
   "outputs": [],
   "source": [
    "df_torre_443 = df_complete[df_complete['torre']=='443']"
   ]
  },
  {
   "cell_type": "code",
   "execution_count": null,
   "metadata": {},
   "outputs": [],
   "source": [
    "df_torre_443.sector.value_counts()"
   ]
  },
  {
   "cell_type": "code",
   "execution_count": null,
   "metadata": {},
   "outputs": [],
   "source": [
    "gdf_df_torre_443 = gpd.GeoDataFrame(df_torre_443, crs='EPSG:4326', geometry = gpd.points_from_xy(df_torre_443.longitude, df_torre_443.latitude))"
   ]
  },
  {
   "cell_type": "code",
   "execution_count": null,
   "metadata": {},
   "outputs": [],
   "source": [
    "gdf_df_torre_443.timing_advance.describe()"
   ]
  },
  {
   "cell_type": "code",
   "execution_count": null,
   "metadata": {},
   "outputs": [],
   "source": [
    "gdf_df_torre_443.explore('sector', cmap='Blues')"
   ]
  },
  {
   "cell_type": "code",
   "execution_count": null,
   "metadata": {},
   "outputs": [],
   "source": [
    "df_torre_443_timing = gdf_df_torre_443[gdf_df_torre_443['timing_advance'] < 4]"
   ]
  },
  {
   "cell_type": "code",
   "execution_count": null,
   "metadata": {},
   "outputs": [],
   "source": [
    "\n",
    "df_torre_443_timing.explore('sector', cmap='Blues')"
   ]
  },
  {
   "cell_type": "code",
   "execution_count": null,
   "metadata": {},
   "outputs": [],
   "source": [
    "res = df_torre_443_timing.dissolve(\"sector\").convex_hull"
   ]
  },
  {
   "cell_type": "code",
   "execution_count": null,
   "metadata": {},
   "outputs": [],
   "source": [
    "res.explore()"
   ]
  },
  {
   "cell_type": "code",
   "execution_count": null,
   "metadata": {},
   "outputs": [],
   "source": [
    "df_torre_443_buena_señal"
   ]
  },
  {
   "cell_type": "code",
   "execution_count": null,
   "metadata": {},
   "outputs": [],
   "source": [
    "x.connection_type.value_counts()"
   ]
  },
  {
   "cell_type": "code",
   "execution_count": null,
   "metadata": {},
   "outputs": [],
   "source": []
  }
 ],
 "metadata": {
  "kernelspec": {
   "display_name": "Python 3",
   "language": "python",
   "name": "python3"
  },
  "language_info": {
   "codemirror_mode": {
    "name": "ipython",
    "version": 3
   },
   "file_extension": ".py",
   "mimetype": "text/x-python",
   "name": "python",
   "nbconvert_exporter": "python",
   "pygments_lexer": "ipython3",
   "version": "3.10.11"
  }
 },
 "nbformat": 4,
 "nbformat_minor": 2
}
